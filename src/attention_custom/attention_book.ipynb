{
 "cells": [
  {
   "cell_type": "markdown",
   "metadata": {
    "collapsed": true,
    "pycharm": {
     "name": "#%% md\n"
    }
   },
   "source": [
    "### Self Attention 模型 + 公式\n",
    "\n",
    "- 参考 [Self-attention计算方法](https://blog.csdn.net/weixin_43282288/article/details/103513107)"
   ]
  },
  {
   "cell_type": "markdown",
   "source": [
    "### 第一步 : 初始化 Q K V\n",
    "\n",
    "- $W^q, W^k, W^v 是\\text{随机初始化权重矩阵, 维度是 Q, K, V的维度}$\n",
    "- 让 输入 $x$ 和 $W^q, W^k, W^v$ 相乘 得到 $q, k, v$"
   ],
   "metadata": {
    "collapsed": false,
    "pycharm": {
     "name": "#%% md\n"
    }
   }
  },
  {
   "cell_type": "code",
   "execution_count": 1,
   "outputs": [
    {
     "data": {
      "text/plain": "(32, 256)"
     },
     "execution_count": 1,
     "metadata": {},
     "output_type": "execute_result"
    }
   ],
   "source": [
    "import numpy as np\n",
    "from numpy.random import randn\n",
    "\n",
    "# d 是维度\n",
    "d = 256\n",
    "# n 是序列长度 seq_len\n",
    "n = 32\n",
    "# x 是输入矩阵\n",
    "x = randn(n, d)\n",
    "x.shape"
   ],
   "metadata": {
    "collapsed": false,
    "pycharm": {
     "name": "#%%\n"
    }
   }
  },
  {
   "cell_type": "code",
   "execution_count": 2,
   "outputs": [
    {
     "data": {
      "text/plain": "((256, 256), (256, 256), (256, 256))"
     },
     "execution_count": 2,
     "metadata": {},
     "output_type": "execute_result"
    }
   ],
   "source": [
    "# 初始化权重矩阵\n",
    "wq = randn(d, d)\n",
    "wk = randn(d, d)\n",
    "wv = randn(d, d)\n",
    "\n",
    "wq.shape, wk.shape, wv.shape"
   ],
   "metadata": {
    "collapsed": false,
    "pycharm": {
     "name": "#%%\n"
    }
   }
  },
  {
   "cell_type": "code",
   "execution_count": 3,
   "outputs": [
    {
     "data": {
      "text/plain": "((32, 256), (32, 256), (32, 256))"
     },
     "execution_count": 3,
     "metadata": {},
     "output_type": "execute_result"
    }
   ],
   "source": [
    "# 输入 x 和 权重矩阵 wq, wk, wv 分别相乘(矩阵乘法). 得到 q, k, v\n",
    "\n",
    "# x(32, 256) @ w(256, 256)\n",
    "q = x @ wq\n",
    "k = x @ wk\n",
    "v = x @ wq\n",
    "\n",
    "q.shape, k.shape, v.shape"
   ],
   "metadata": {
    "collapsed": false,
    "pycharm": {
     "name": "#%%\n"
    }
   }
  },
  {
   "cell_type": "markdown",
   "source": [
    "### 第二步 : 计算注意力权重\n",
    "\n",
    "$$\n",
    "    a_{j,i} = q^{(j)} * k^{(i)}^T / \\sqrt{d}\n",
    "$$\n"
   ],
   "metadata": {
    "collapsed": false,
    "pycharm": {
     "name": "#%% md\n"
    }
   }
  },
  {
   "cell_type": "code",
   "execution_count": 5,
   "outputs": [
    {
     "data": {
      "text/plain": "(32, 32)"
     },
     "execution_count": 5,
     "metadata": {},
     "output_type": "execute_result"
    }
   ],
   "source": [
    "a = (q @ k.T ) / np.sqrt(d)\n",
    "a.shape"
   ],
   "metadata": {
    "collapsed": false,
    "pycharm": {
     "name": "#%%\n"
    }
   }
  },
  {
   "cell_type": "code",
   "execution_count": 7,
   "outputs": [],
   "source": [
    "# 对a进行缩放, 使用 np.clip(x, x_max, x_min)\n",
    "a = np.clip(a, 100, -100)"
   ],
   "metadata": {
    "collapsed": false,
    "pycharm": {
     "name": "#%%\n"
    }
   }
  },
  {
   "cell_type": "markdown",
   "source": [
    "### 第四步 SoftMax\n",
    "\n",
    "$$\n",
    "    \\hat{\\alpha}_{1, i}=\\exp \\left(\\alpha_{1, i}\\right) / \\sum_{j} \\exp \\left(\\alpha_{1, j}\\right)\n",
    "$$"
   ],
   "metadata": {
    "collapsed": false
   }
  },
  {
   "cell_type": "code",
   "execution_count": 9,
   "outputs": [
    {
     "data": {
      "text/plain": "(32, 32)"
     },
     "execution_count": 9,
     "metadata": {},
     "output_type": "execute_result"
    }
   ],
   "source": [
    "# softmax\n",
    "a = np.exp(a) / np.sum(np.exp(a), axis = -1, keepdims=True)\n",
    "a.shape"
   ],
   "metadata": {
    "collapsed": false,
    "pycharm": {
     "name": "#%%\n"
    }
   }
  },
  {
   "cell_type": "markdown",
   "source": [
    "### 第五步 a 与 v 相乘\n",
    "\n",
    "$$\n",
    "    b^{1}=\\sum_{i} \\hat{\\alpha}_{1, i} v^{i}\n",
    "$$\n"
   ],
   "metadata": {
    "collapsed": false
   }
  },
  {
   "cell_type": "code",
   "execution_count": null,
   "outputs": [],
   "source": [
    "# b(32, 256) = a(32,32) @ v(32,256)\n",
    "b = a @ v\n",
    "b.shape()"
   ],
   "metadata": {
    "collapsed": false,
    "pycharm": {
     "name": "#%%\n"
    }
   }
  }
 ],
 "metadata": {
  "kernelspec": {
   "display_name": "Python 3",
   "language": "python",
   "name": "python3"
  },
  "language_info": {
   "codemirror_mode": {
    "name": "ipython",
    "version": 2
   },
   "file_extension": ".py",
   "mimetype": "text/x-python",
   "name": "python",
   "nbconvert_exporter": "python",
   "pygments_lexer": "ipython2",
   "version": "2.7.6"
  }
 },
 "nbformat": 4,
 "nbformat_minor": 0
}